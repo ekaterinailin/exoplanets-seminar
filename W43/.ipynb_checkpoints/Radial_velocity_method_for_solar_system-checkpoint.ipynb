{
 "cells": [
  {
   "cell_type": "code",
   "execution_count": 36,
   "metadata": {},
   "outputs": [],
   "source": [
    "import numpy as np\n",
    "import astropy.units as u\n",
    "#gravitational constant, Jupiter mass, Solar mass, speed of light:\n",
    "from astropy.constants import G, M_jup, M_sun, M_earth, c "
   ]
  },
  {
   "cell_type": "markdown",
   "metadata": {},
   "source": [
    "### Calculate the maximum relative velocity  $RV$ of the Sun \n",
    "\n",
    "Assume: \n",
    " - circular orbit, or $e=0$\n",
    " - we can neglect all other bodies in the solar system\n",
    " - we observe the system edge-on so that we can actually measure the maximum possible $RV$"
   ]
  },
  {
   "cell_type": "code",
   "execution_count": 37,
   "metadata": {},
   "outputs": [],
   "source": [
    "a = 5 * u.AU"
   ]
  },
  {
   "cell_type": "markdown",
   "metadata": {},
   "source": [
    "#### Kepler's 3rd law\n",
    "\n",
    "$T^2 = \\dfrac{4 \\pi^2 a^3}{G M_{tot}}$"
   ]
  },
  {
   "cell_type": "code",
   "execution_count": 41,
   "metadata": {},
   "outputs": [
    {
     "data": {
      "text/latex": [
       "$12.709244 \\; \\mathrm{\\frac{m}{s}}$"
      ],
      "text/plain": [
       "<Quantity 12.70924427 m / s>"
      ]
     },
     "execution_count": 41,
     "metadata": {},
     "output_type": "execute_result"
    }
   ],
   "source": [
    "# Kepler's 3rd law\n",
    "Mp = M_jup\n",
    "T = np.sqrt(4 * np.pi**2 * a**3 / (G * (Mp + M_sun)))\n",
    "\n",
    "#Sun's distance to the barycenter of the Sun-Jupiter system\n",
    "r = Mp * a / (M_sun + Mp)\n",
    "\n",
    "#Sun's orbital velocity around the barycenter of the Sun-Jupiter system\n",
    "rv = 2 * np.pi * r / T\n",
    "rv.to(\"m/s\")"
   ]
  },
  {
   "cell_type": "markdown",
   "metadata": {},
   "source": [
    "## What minimum spectrograph resolution do we need for this?\n",
    "\n",
    "$R = \\dfrac{\\lambda}{\\Delta \\lambda} = \\dfrac{c}{RV}$"
   ]
  },
  {
   "cell_type": "code",
   "execution_count": 42,
   "metadata": {},
   "outputs": [
    {
     "data": {
      "text/latex": [
       "$23588535 \\; \\mathrm{}$"
      ],
      "text/plain": [
       "<Quantity 23588535.36552311>"
      ]
     },
     "execution_count": 42,
     "metadata": {},
     "output_type": "execute_result"
    }
   ],
   "source": [
    "R = c / rv\n",
    "R.decompose()"
   ]
  }
 ],
 "metadata": {
  "kernelspec": {
   "display_name": "appaloosa_for_tess",
   "language": "python",
   "name": "appaloosa_for_tess"
  },
  "language_info": {
   "codemirror_mode": {
    "name": "ipython",
    "version": 3
   },
   "file_extension": ".py",
   "mimetype": "text/x-python",
   "name": "python",
   "nbconvert_exporter": "python",
   "pygments_lexer": "ipython3",
   "version": "3.6.8"
  }
 },
 "nbformat": 4,
 "nbformat_minor": 2
}
