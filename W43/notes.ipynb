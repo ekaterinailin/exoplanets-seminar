{
 "cells": [
  {
   "cell_type": "markdown",
   "metadata": {},
   "source": [
    "Exoplanet detection"
   ]
  },
  {
   "cell_type": "markdown",
   "metadata": {},
   "source": [
    "exotic detection method: pulsar timing -  neutron star + planet\n",
    "\n",
    "\n",
    "direct detection is difficult because\n",
    "\n",
    "- small separation (.1 arcsec at 1AU / 10pc)\n",
    "- low brightness ratio stellar vs. reflected light \n",
    "    - $10^9$ in optical\n",
    "    - $10^6$ in IR"
   ]
  },
  {
   "cell_type": "code",
   "execution_count": null,
   "metadata": {},
   "outputs": [],
   "source": []
  }
 ],
 "metadata": {
  "kernelspec": {
   "display_name": "flaresinclustersii",
   "language": "python",
   "name": "flaresinclustersii"
  },
  "language_info": {
   "codemirror_mode": {
    "name": "ipython",
    "version": 3
   },
   "file_extension": ".py",
   "mimetype": "text/x-python",
   "name": "python",
   "nbconvert_exporter": "python",
   "pygments_lexer": "ipython3",
   "version": "3.6.8"
  }
 },
 "nbformat": 4,
 "nbformat_minor": 2
}
