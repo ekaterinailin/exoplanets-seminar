{
 "cells": [
  {
   "cell_type": "code",
   "execution_count": 7,
   "metadata": {},
   "outputs": [],
   "source": [
    "import numpy as np\n",
    "from astropy.constants import R_sun, R_earth, M_earth, M_sun, G, M_jup, R_jup\n",
    "import astropy.units as u"
   ]
  },
  {
   "cell_type": "markdown",
   "metadata": {},
   "source": [
    "### What is the transit duration $t$ (without ingress/egress), assuming point geometry?\n",
    "\n",
    "$t = \\dfrac{d}{RV}$\n",
    "\n",
    "$d$ is the distance the planet covers on the solar surface\n",
    "\n",
    "$d = 2\\sqrt{R_\\odot^2 - a^2\\sin ^2 i}$\n",
    "\n",
    "\n",
    "#### Reality is more complicated\n",
    "\n",
    "See this paper by [Seager and Mallen-Ornelas (2003)](http://katjapoppenhaeger.com/wp-content/uploads/2019/10/Seager_MallenOrnelas_2003.pdf).\n",
    "\n",
    "We can solve for:\n",
    "\n",
    "$\\dfrac{R_p}{R_s},\\; \\dfrac{a}{R_s},\\;\\rho_s, \\; i$\n",
    "\n",
    "Probability of transit $\\sim \\dfrac{R_s}{a}$"
   ]
  },
  {
   "cell_type": "code",
   "execution_count": 5,
   "metadata": {},
   "outputs": [
    {
     "data": {
      "text/latex": [
       "$1.2095876 \\; \\mathrm{d}$"
      ],
      "text/plain": [
       "<Quantity 1.20958763 d>"
      ]
     },
     "execution_count": 5,
     "metadata": {},
     "output_type": "execute_result"
    }
   ],
   "source": [
    "# orbital distance\n",
    "a = 5. * u.AU\n",
    "# inclination \n",
    "i = 0\n",
    "\n",
    "# Kepler's 3rd law\n",
    "Mp = M_jup\n",
    "T = np.sqrt(4 * np.pi**2 * a**3 / (G * (Mp + M_sun)))\n",
    "\n",
    "#Sun's distance to the barycenter of the Sun-Jupiter system\n",
    "r = a - Mp * a / (M_sun + Mp)\n",
    "\n",
    "#Sun's orbital velocity around the barycenter of the Sun-Jupiter system\n",
    "rv = 2 * np.pi * r / T\n",
    "\n",
    "# Find transit duration with formulas derived above\n",
    "d = 2. * np.sqrt(R_sun**2 - a**2 * np.sin(i)**2)\n",
    "t = d / rv\n",
    "t.to(\"d\")"
   ]
  },
  {
   "cell_type": "markdown",
   "metadata": {},
   "source": [
    "### What is the relative difference in luminosity?\n",
    "\n",
    "$\\dfrac{\\Delta L}{L} = 1 - \\left(\\dfrac{R_p}{R_\\odot}\\right)^2$"
   ]
  },
  {
   "cell_type": "code",
   "execution_count": 8,
   "metadata": {},
   "outputs": [
    {
     "name": "stdout",
     "output_type": "stream",
     "text": [
      "1.1e-02\n"
     ]
    }
   ],
   "source": [
    "rel_dif = 1 - (R_jup / R_sun)**2 \n",
    "print(f\"{1-rel_dif:.1e}\")"
   ]
  },
  {
   "cell_type": "markdown",
   "metadata": {},
   "source": [
    "### If you are lazy, use PyAstronomy\n",
    "\n",
    "(see [PyAstronomy docs](https://www.hs.uni-hamburg.de/DE/Ins/Per/Czesla/PyA/PyA/pyaslDoc/aslDoc/transitDuration.html))"
   ]
  },
  {
   "cell_type": "code",
   "execution_count": 6,
   "metadata": {},
   "outputs": [
    {
     "name": "stdout",
     "output_type": "stream",
     "text": [
      "Earth radius in Jovian units:  0.08921468975549712\n",
      "The transit of Earth lasts about: 0.545 days\n"
     ]
    }
   ],
   "source": [
    "from __future__ import print_function, division\n",
    "from PyAstronomy import pyasl\n",
    "from PyAstronomy import constants as pc\n",
    "\n",
    "# Earth radius expressed in Jovian radii\n",
    "reJ = pc.REarth/pc.RJ\n",
    "print(\"Earth radius in Jovian units: \", reJ)\n",
    "\n",
    "# Estimate the duration of Earth's transit\n",
    "td = pyasl.transitDuration(1.0, reJ, 1.0, 90.0, 365.0)\n",
    "print(\"The transit of Earth lasts about: %5.3f days\" % td)"
   ]
  },
  {
   "cell_type": "code",
   "execution_count": null,
   "metadata": {},
   "outputs": [],
   "source": []
  }
 ],
 "metadata": {
  "kernelspec": {
   "display_name": "siberianpineenv",
   "language": "python",
   "name": "siberianpineenv"
  },
  "language_info": {
   "codemirror_mode": {
    "name": "ipython",
    "version": 3
   },
   "file_extension": ".py",
   "mimetype": "text/x-python",
   "name": "python",
   "nbconvert_exporter": "python",
   "pygments_lexer": "ipython3",
   "version": "3.6.8"
  }
 },
 "nbformat": 4,
 "nbformat_minor": 2
}
